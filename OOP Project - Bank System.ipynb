{
 "cells": [
  {
   "cell_type": "markdown",
   "id": "51aab572",
   "metadata": {},
   "source": [
    "# A Banking System that holds and shows user information, accept deposits, allows withdrawal and shows account balance"
   ]
  },
  {
   "cell_type": "code",
   "execution_count": 1,
   "id": "e49de680",
   "metadata": {},
   "outputs": [],
   "source": [
    "#Create Parent class\n",
    "class User():\n",
    "    def __init__(self, name, age, gender):\n",
    "        self.name = name\n",
    "        self.age = age\n",
    "        self.gender = gender\n",
    "        \n",
    "# Create a function that shows user details      \n",
    "    def show_details(self):\n",
    "        print(\"Personal Details\")\n",
    "        print(\"\")\n",
    "        print(\"Name \", self.name)\n",
    "        print(\"Age \", self.age)\n",
    "        print(\"Gender \", self.gender)"
   ]
  },
  {
   "cell_type": "code",
   "execution_count": 2,
   "id": "717b311e",
   "metadata": {},
   "outputs": [],
   "source": [
    "# Create Child class - Account\n",
    "class Account(User):\n",
    "    def __init__(self, name, age, gender):\n",
    "        super() .__init__(name, age, gender)\n",
    "        self.balance = 0\n",
    "        print(\"Your account has been created |\", self.balance )\n",
    "           \n",
    "    def deposit(self) :\n",
    "        self.amount =float(input(\"Enter the amount to be deposited : \"))\n",
    "        self.balance = self.balance + self.amount                \n",
    "        print(\"Deposit Successful\")\n",
    "        print(\"Account balance has been updated : $\", self.balance)\n",
    "    \n",
    "    def withdraw(self) :\n",
    "        self.amount = float(input(\"Enter the amount to withdraw :\"))\n",
    "        if self.amount >= self.balance :\n",
    "            print (\"Insufficient Funds | Balance Available : $\", self.balance)\n",
    "        else:\n",
    "            self.balance = self.balance - self.amount\n",
    "            print( \"Withdrawal is successful\")\n",
    "            print (\"Account balance is : $\", self.balance)\n",
    "             \n",
    "    def view_balance(self) :\n",
    "        self.show_details()\n",
    "        print(\"Account balance is $\", self.balance)\n",
    "    "
   ]
  },
  {
   "cell_type": "code",
   "execution_count": 3,
   "id": "145223d7",
   "metadata": {},
   "outputs": [
    {
     "name": "stdout",
     "output_type": "stream",
     "text": [
      "Your account has been created | 0\n"
     ]
    }
   ],
   "source": [
    "Fash = Account(\"Fash\", 20, \"Male\")"
   ]
  },
  {
   "cell_type": "code",
   "execution_count": 4,
   "id": "500d1cd3",
   "metadata": {
    "scrolled": true
   },
   "outputs": [
    {
     "data": {
      "text/plain": [
       "'Fash'"
      ]
     },
     "execution_count": 4,
     "metadata": {},
     "output_type": "execute_result"
    }
   ],
   "source": [
    "Fash.name"
   ]
  },
  {
   "cell_type": "code",
   "execution_count": 5,
   "id": "665234e5",
   "metadata": {},
   "outputs": [
    {
     "data": {
      "text/plain": [
       "20"
      ]
     },
     "execution_count": 5,
     "metadata": {},
     "output_type": "execute_result"
    }
   ],
   "source": [
    "Fash.age"
   ]
  },
  {
   "cell_type": "code",
   "execution_count": 6,
   "id": "047d013c",
   "metadata": {},
   "outputs": [
    {
     "data": {
      "text/plain": [
       "'Male'"
      ]
     },
     "execution_count": 6,
     "metadata": {},
     "output_type": "execute_result"
    }
   ],
   "source": [
    "Fash.gender"
   ]
  },
  {
   "cell_type": "code",
   "execution_count": 7,
   "id": "e255efad",
   "metadata": {},
   "outputs": [
    {
     "name": "stdout",
     "output_type": "stream",
     "text": [
      "Your account has been created | 0\n"
     ]
    }
   ],
   "source": [
    "Dami = Account(\"Dami\", 30, \"Female\")"
   ]
  },
  {
   "cell_type": "code",
   "execution_count": 8,
   "id": "fe9f3369",
   "metadata": {},
   "outputs": [
    {
     "data": {
      "text/plain": [
       "30"
      ]
     },
     "execution_count": 8,
     "metadata": {},
     "output_type": "execute_result"
    }
   ],
   "source": [
    "Dami.age"
   ]
  },
  {
   "cell_type": "code",
   "execution_count": 9,
   "id": "e1a3101a",
   "metadata": {},
   "outputs": [
    {
     "data": {
      "text/plain": [
       "'Female'"
      ]
     },
     "execution_count": 9,
     "metadata": {},
     "output_type": "execute_result"
    }
   ],
   "source": [
    "Dami.gender"
   ]
  },
  {
   "cell_type": "code",
   "execution_count": 10,
   "id": "51a96119",
   "metadata": {},
   "outputs": [
    {
     "name": "stdout",
     "output_type": "stream",
     "text": [
      "Enter the amount to be deposited : 200\n",
      "Deposit Successful\n",
      "Account balance has been updated : $ 200.0\n"
     ]
    }
   ],
   "source": [
    "Dami.deposit()"
   ]
  },
  {
   "cell_type": "code",
   "execution_count": 11,
   "id": "73e1032b",
   "metadata": {},
   "outputs": [
    {
     "name": "stdout",
     "output_type": "stream",
     "text": [
      "Enter the amount to be deposited : 655\n",
      "Deposit Successful\n",
      "Account balance has been updated : $ 655.0\n"
     ]
    }
   ],
   "source": [
    "Fash.deposit()"
   ]
  },
  {
   "cell_type": "code",
   "execution_count": 12,
   "id": "0f937532",
   "metadata": {},
   "outputs": [
    {
     "name": "stdout",
     "output_type": "stream",
     "text": [
      "Enter the amount to withdraw :700\n",
      "Insufficient Funds | Balance Available : $ 655.0\n"
     ]
    }
   ],
   "source": [
    "Fash.withdraw()"
   ]
  },
  {
   "cell_type": "code",
   "execution_count": null,
   "id": "43d371d0",
   "metadata": {},
   "outputs": [],
   "source": [
    "Dami.withdraw()"
   ]
  },
  {
   "cell_type": "code",
   "execution_count": null,
   "id": "47cf1fc0",
   "metadata": {},
   "outputs": [],
   "source": [
    "Fash.view_balance()"
   ]
  },
  {
   "cell_type": "code",
   "execution_count": null,
   "id": "447fc507",
   "metadata": {},
   "outputs": [],
   "source": [
    "Fash.show_details()"
   ]
  },
  {
   "cell_type": "code",
   "execution_count": null,
   "id": "530681f4",
   "metadata": {},
   "outputs": [],
   "source": []
  }
 ],
 "metadata": {
  "kernelspec": {
   "display_name": "Python 3 (ipykernel)",
   "language": "python",
   "name": "python3"
  },
  "language_info": {
   "codemirror_mode": {
    "name": "ipython",
    "version": 3
   },
   "file_extension": ".py",
   "mimetype": "text/x-python",
   "name": "python",
   "nbconvert_exporter": "python",
   "pygments_lexer": "ipython3",
   "version": "3.9.13"
  }
 },
 "nbformat": 4,
 "nbformat_minor": 5
}
